{
 "cells": [
  {
   "cell_type": "code",
   "execution_count": 1,
   "metadata": {},
   "outputs": [],
   "source": [
    "import pandas as pd"
   ]
  },
  {
   "cell_type": "code",
   "execution_count": 2,
   "metadata": {},
   "outputs": [],
   "source": [
    "train=pd.read_csv(\"train.csv\")\n",
    "test=pd.read_csv(\"test.csv\")"
   ]
  },
  {
   "cell_type": "code",
   "execution_count": 3,
   "metadata": {},
   "outputs": [],
   "source": [
    "x=train.text\n",
    "y=train.airline_sentiment\n",
    "x_test=test.text"
   ]
  },
  {
   "cell_type": "code",
   "execution_count": 4,
   "metadata": {},
   "outputs": [
    {
     "data": {
      "text/plain": [
       "0        @SouthwestAir I am scheduled for the morning, ...\n",
       "1        @SouthwestAir seeing your workers time in and ...\n",
       "2        @united Flew ORD to Miami and back and  had gr...\n",
       "3           @SouthwestAir @dultch97 that's horse radish 😤🐴\n",
       "4        @united so our flight into ORD was delayed bec...\n",
       "                               ...                        \n",
       "10975                              @AmericanAir followback\n",
       "10976    @united thanks for the help. Wish the phone re...\n",
       "10977    @usairways the. Worst. Ever. #dca #customerser...\n",
       "10978    @nrhodes85: look! Another apology. DO NOT FLY ...\n",
       "10979    @united you are by far the worst airline. 4 pl...\n",
       "Name: text, Length: 10980, dtype: object"
      ]
     },
     "execution_count": 4,
     "metadata": {},
     "output_type": "execute_result"
    }
   ],
   "source": [
    "x"
   ]
  },
  {
   "cell_type": "code",
   "execution_count": 5,
   "metadata": {},
   "outputs": [],
   "source": [
    "from sklearn.feature_extraction.text import CountVectorizer"
   ]
  },
  {
   "cell_type": "code",
   "execution_count": 6,
   "metadata": {},
   "outputs": [],
   "source": [
    "cv=CountVectorizer(max_features=5000,stop_words=\"english\",ngram_range=(1,2))"
   ]
  },
  {
   "cell_type": "code",
   "execution_count": 57,
   "metadata": {},
   "outputs": [],
   "source": [
    "x_cv=cv.fit_transform(x)"
   ]
  },
  {
   "cell_type": "code",
   "execution_count": 58,
   "metadata": {},
   "outputs": [],
   "source": [
    "import numpy as np\n",
    "xx=np.asarray(x_cv)\n",
    "fxx=x_cv.toarray()"
   ]
  },
  {
   "cell_type": "code",
   "execution_count": 59,
   "metadata": {},
   "outputs": [],
   "source": [
    "yy=[]\n",
    "for i in y:\n",
    "    if i==\"positive\":\n",
    "        yy.append(0)\n",
    "    elif i==\"negative\":\n",
    "        yy.append(1)\n",
    "    else:\n",
    "        yy.append(2)"
   ]
  },
  {
   "cell_type": "code",
   "execution_count": 60,
   "metadata": {},
   "outputs": [],
   "source": [
    "yyy=np.asarray(yy)"
   ]
  },
  {
   "cell_type": "code",
   "execution_count": 61,
   "metadata": {},
   "outputs": [],
   "source": [
    "x_test_cv=cv.transform(x_test)"
   ]
  },
  {
   "cell_type": "code",
   "execution_count": 62,
   "metadata": {},
   "outputs": [],
   "source": [
    "from keras.models import Sequential\n",
    "from keras.layers import Dense"
   ]
  },
  {
   "cell_type": "code",
   "execution_count": 63,
   "metadata": {},
   "outputs": [
    {
     "name": "stdout",
     "output_type": "stream",
     "text": [
      "Epoch 1/10\n",
      "10980/10980 [==============================] - 6s 562us/step - loss: -0.7623 - acc: 0.6240\n",
      "Epoch 2/10\n",
      "10980/10980 [==============================] - 4s 364us/step - loss: -0.7623 - acc: 0.6240\n",
      "Epoch 3/10\n",
      "10980/10980 [==============================] - 4s 366us/step - loss: -0.7623 - acc: 0.6240\n",
      "Epoch 4/10\n",
      "10980/10980 [==============================] - 4s 393us/step - loss: -0.7623 - acc: 0.6240\n",
      "Epoch 5/10\n",
      "10980/10980 [==============================] - 4s 399us/step - loss: -0.7623 - acc: 0.6240\n",
      "Epoch 6/10\n",
      "10980/10980 [==============================] - 4s 399us/step - loss: -0.7623 - acc: 0.6240\n",
      "Epoch 7/10\n",
      "10980/10980 [==============================] - 4s 385us/step - loss: -0.7623 - acc: 0.6240\n",
      "Epoch 8/10\n",
      "10980/10980 [==============================] - 4s 367us/step - loss: -0.7623 - acc: 0.6240\n",
      "Epoch 9/10\n",
      "10980/10980 [==============================] - 4s 371us/step - loss: -0.7623 - acc: 0.6240\n",
      "Epoch 10/10\n",
      "10980/10980 [==============================] - 4s 372us/step - loss: -0.7623 - acc: 0.6240\n"
     ]
    },
    {
     "data": {
      "text/plain": [
       "<keras.callbacks.History at 0x1c572a2ed0>"
      ]
     },
     "execution_count": 63,
     "metadata": {},
     "output_type": "execute_result"
    }
   ],
   "source": [
    "model=Sequential()\n",
    "model.add(Dense(32,activation='softmax'))\n",
    "model.add(Dense(32,activation='softmax'))\n",
    "model.add(Dense(1,activation='softmax'))\n",
    "model.compile(loss=\"binary_crossentropy\",optimizer=\"adam\",metrics=[\"accuracy\"])\n",
    "model.fit(fxx,yyy,epochs=10)"
   ]
  },
  {
   "cell_type": "code",
   "execution_count": 18,
   "metadata": {},
   "outputs": [],
   "source": [
    "from sklearn.ensemble import RandomForestClassifier"
   ]
  },
  {
   "cell_type": "code",
   "execution_count": 19,
   "metadata": {},
   "outputs": [
    {
     "name": "stderr",
     "output_type": "stream",
     "text": [
      "/Users/sahilsagar/opt/anaconda3/lib/python3.7/site-packages/sklearn/ensemble/forest.py:245: FutureWarning: The default value of n_estimators will change from 10 in version 0.20 to 100 in 0.22.\n",
      "  \"10 in version 0.20 to 100 in 0.22.\", FutureWarning)\n"
     ]
    },
    {
     "data": {
      "text/plain": [
       "RandomForestClassifier(bootstrap=True, class_weight=None, criterion='gini',\n",
       "                       max_depth=None, max_features='auto', max_leaf_nodes=None,\n",
       "                       min_impurity_decrease=0.0, min_impurity_split=None,\n",
       "                       min_samples_leaf=1, min_samples_split=2,\n",
       "                       min_weight_fraction_leaf=0.0, n_estimators=10,\n",
       "                       n_jobs=None, oob_score=False, random_state=None,\n",
       "                       verbose=0, warm_start=False)"
      ]
     },
     "execution_count": 19,
     "metadata": {},
     "output_type": "execute_result"
    }
   ],
   "source": [
    "clg=RandomForestClassifier()\n",
    "clg.fit(x_cv,y)"
   ]
  },
  {
   "cell_type": "code",
   "execution_count": 69,
   "metadata": {},
   "outputs": [
    {
     "data": {
      "text/plain": [
       "array(['negative', 'negative', 'negative', ..., 'neutral', 'positive',\n",
       "       'negative'], dtype=object)"
      ]
     },
     "execution_count": 69,
     "metadata": {},
     "output_type": "execute_result"
    }
   ],
   "source": [
    "y_pre=clg.predict(x_test_cv)\n",
    "clg.score(x_test_cv)"
   ]
  },
  {
   "cell_type": "code",
   "execution_count": null,
   "metadata": {},
   "outputs": [],
   "source": []
  },
  {
   "cell_type": "code",
   "execution_count": 22,
   "metadata": {},
   "outputs": [
    {
     "data": {
      "text/plain": [
       "[('negative', 2417), ('neutral', 782), ('positive', 461)]"
      ]
     },
     "execution_count": 22,
     "metadata": {},
     "output_type": "execute_result"
    }
   ],
   "source": [
    "import nltk\n",
    "freq=nltk.FreqDist(y_pre)\n",
    "common=freq.most_common()\n",
    "common"
   ]
  },
  {
   "cell_type": "code",
   "execution_count": 23,
   "metadata": {},
   "outputs": [],
   "source": [
    "import matplotlib.pyplot as plt\n",
    "xaxis=[common[0][1],common[1][1],common[2][1]]\n",
    "yaxis=[\"negative\",'neutral','positive']\n"
   ]
  },
  {
   "cell_type": "code",
   "execution_count": 24,
   "metadata": {},
   "outputs": [
    {
     "data": {
      "text/plain": [
       "array([0, 1, 2])"
      ]
     },
     "execution_count": 24,
     "metadata": {},
     "output_type": "execute_result"
    }
   ],
   "source": [
    "import numpy\n",
    "ypos=numpy.arange(len(yaxis))\n",
    "ypos"
   ]
  },
  {
   "cell_type": "code",
   "execution_count": 25,
   "metadata": {},
   "outputs": [
    {
     "data": {
      "image/png": "[encoded data removed]",
      "text/plain": [
       "<Figure size 432x288 with 1 Axes>"
      ]
     },
     "metadata": {
      "needs_background": "light"
     },
     "output_type": "display_data"
    }
   ],
   "source": [
    "plt.xticks(ypos,yaxis)\n",
    "plt.xlabel(\"Categories\")\n",
    "plt.ylabel(\"Values\")\n",
    "plt.title(\"Prediction Graph\")\n",
    "plt.bar(ypos,xaxis)\n",
    "plt.show()\n",
    "        "
   ]
  },
  {
   "cell_type": "markdown",
   "metadata": {},
   "source": [
    "# Testing model \n"
   ]
  },
  {
   "cell_type": "code",
   "execution_count": 70,
   "metadata": {},
   "outputs": [
    {
     "name": "stdout",
     "output_type": "stream",
     "text": [
      "Enter your Review:---i love it\n",
      "['positive']\n"
     ]
    }
   ],
   "source": [
    "s=[input(\"Enter your Review:---\")]\n",
    "xx=cv.transform(s)\n",
    "print(clg.predict(xx))"
   ]
  },
  {
   "cell_type": "code",
   "execution_count": null,
   "metadata": {},
   "outputs": [],
   "source": [
    "s=[input(\"Enter your Review:---\")]\n",
    "xx=cv.transform(s)\n",
    "print(clg.predict(xx))"
   ]
  },
  {
   "cell_type": "code",
   "execution_count": 72,
   "metadata": {},
   "outputs": [
    {
     "name": "stdout",
     "output_type": "stream",
     "text": [
      "Enter your Review:---it was a good flight and i love to use their service again \n",
      "['positive']\n"
     ]
    }
   ],
   "source": [
    "s=[input(\"Enter your Review:---\")]\n",
    "xx=cv.transform(s)\n",
    "print(clg.predict(xx))"
   ]
  },
  {
   "cell_type": "code",
   "execution_count": null,
   "metadata": {},
   "outputs": [],
   "source": []
  }
 ],
 "metadata": {
  "kernelspec": {
   "display_name": "Python 3",
   "language": "python",
   "name": "python3"
  },
  "language_info": {
   "codemirror_mode": {
    "name": "ipython",
    "version": 3
   },
   "file_extension": ".py",
   "mimetype": "text/x-python",
   "name": "python",
   "nbconvert_exporter": "python",
   "pygments_lexer": "ipython3",
   "version": "3.7.4"
  }
 },
 "nbformat": 4,
 "nbformat_minor": 2
}
